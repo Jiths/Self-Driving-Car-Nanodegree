{
 "cells": [
  {
   "cell_type": "code",
   "execution_count": 1,
   "metadata": {
    "collapsed": true
   },
   "outputs": [],
   "source": [
    "import numpy as np\n",
    "import cv2\n",
    "import time\n",
    "import matplotlib.pyplot as plt\n",
    "import pickle\n",
    "import matplotlib.image as mpimg\n",
    "from moviepy.editor import *\n",
    "from utils.utils import *\n",
    "from utils.Line import Line\n",
    "import math\n",
    "\n",
    "%matplotlib inline"
   ]
  },
  {
   "cell_type": "markdown",
   "metadata": {},
   "source": [
    "### Load calibration coefficients"
   ]
  },
  {
   "cell_type": "code",
   "execution_count": 2,
   "metadata": {
    "collapsed": true
   },
   "outputs": [],
   "source": [
    "coeff = pickle.load( open( \"camera_cal/coefficients.p\", \"rb\" ) )\n",
    "mtx = coeff['mtx']\n",
    "dist = coeff['dist']"
   ]
  },
  {
   "cell_type": "markdown",
   "metadata": {},
   "source": [
    "### Define both lanes"
   ]
  },
  {
   "cell_type": "code",
   "execution_count": 3,
   "metadata": {
    "collapsed": true
   },
   "outputs": [],
   "source": [
    "left_lane = Line()\n",
    "right_lane = Line()"
   ]
  },
  {
   "cell_type": "code",
   "execution_count": 4,
   "metadata": {
    "collapsed": true
   },
   "outputs": [],
   "source": [
    "def process_image(image):\n",
    "    undistorted, thresholded, top_down = process_frame(image,mtx,dist)\n",
    "\n",
    "    if left_lane.detected and right_lane.detected:\n",
    "        # If lanes were detected in previous frame\n",
    "        left_fit, right_fit, left_curverad, right_curverad = get_poly_from_last(top_down, left_lane.current_fit, right_lane.current_fit)\n",
    "    else:\n",
    "        # Otherwise find center of lanes at the bottom\n",
    "        left_base, right_base = find_lanes_hist(top_down)\n",
    "        if math.isnan(left_base) or math.isnan(right_base):\n",
    "            left_fit = None\n",
    "            right_fit = None\n",
    "            left_curverad = 0\n",
    "            right_curverad = 0\n",
    "        else:\n",
    "            left_fit, right_fit, left_curverad, right_curverad, out_img = get_polynomial(top_down, left_base, right_base)\n",
    "        \n",
    "    ploty = np.linspace(0, thresholded.shape[0]-1, thresholded.shape[0])\n",
    "    ploty = ploty[150:]\n",
    "        \n",
    "    if left_fit is not None:\n",
    "        # Generate x and y values for plotting\n",
    "        left_fitx = left_fit[0]*ploty**2 + left_fit[1]*ploty + left_fit[2]\n",
    "        right_fitx = right_fit[0]*ploty**2 + right_fit[1]*ploty + right_fit[2]\n",
    "\n",
    "        dist_to_center = find_position(top_down.shape[1], left_fitx[-1], right_fitx[-1])\n",
    "        is_valid = sanity_check(left_fitx, right_fitx, left_curverad, right_curverad)\n",
    "    else:\n",
    "        is_valid = False\n",
    "        dist_to_center = 0\n",
    "\n",
    "    # Add lanes to history in each class\n",
    "    left_lane.add_stats(is_valid, left_fit, left_curverad, dist_to_center)\n",
    "    right_lane.add_stats(is_valid, right_fit, right_curverad, dist_to_center)\n",
    "        \n",
    "    # Create an image to draw the lines on\n",
    "    warp_zero = np.zeros_like(top_down).astype(np.uint8)\n",
    "    color_warp = np.dstack((warp_zero, warp_zero, warp_zero))\n",
    "\n",
    "    # Get the best fit by averaging over history\n",
    "    left_stats = left_lane.get_best_fit()\n",
    "    right_stats = right_lane.get_best_fit()\n",
    "\n",
    "    if left_stats is not None and right_stats is not None:\n",
    "        left_best_fit = left_stats[0]\n",
    "        right_best_fit = right_stats[0]\n",
    "        \n",
    "        left_fitx = left_best_fit[0]*ploty**2 + left_best_fit[1]*ploty + left_best_fit[2]\n",
    "        right_fitx = right_best_fit[0]*ploty**2 + right_best_fit[1]*ploty + right_best_fit[2]\n",
    "\n",
    "        # Recast the x and y points into usable format for cv2.fillPoly()\n",
    "        pts_left = np.array([np.transpose(np.vstack([left_fitx, ploty]))])\n",
    "        pts_right = np.array([np.flipud(np.transpose(np.vstack([right_fitx, ploty])))])\n",
    "        pts = np.hstack((pts_left, pts_right))\n",
    "\n",
    "        # Draw the lane onto the warped blank image\n",
    "        cv2.fillPoly(color_warp, np.int_([pts]), (0,255, 0))\n",
    "\n",
    "        # Warp back to original image space using inverse perspective matrix (Minv)\n",
    "        newwarp = get_inverse_transform(color_warp)\n",
    "        # Combine the result with the original image\n",
    "        result = cv2.addWeighted(undistorted, 1, newwarp, 0.3, 0)\n",
    "        \n",
    "        # Put text on an image\n",
    "        font = cv2.FONT_HERSHEY_SIMPLEX\n",
    "        curvature = (left_stats[1] + right_stats[1])/2\n",
    "        text = \"Radius of Curvature: {} m\".format(int(curvature))\n",
    "        cv2.putText(result,text,(400,100), font, 1,(255,255,255),2)\n",
    "        \n",
    "        position = left_stats[2]\n",
    "        if position < 0:\n",
    "            text = \"Vehicle is {:.2f} m left of center\".format(-position)\n",
    "        else:\n",
    "            text = \"Vehicle is {:.2f} m right of center\".format(position)\n",
    "        cv2.putText(result,text,(400,150), font, 1,(255,255,255),2)\n",
    "\n",
    "    else:\n",
    "        result = undistorted\n",
    "\n",
    "    return result"
   ]
  },
  {
   "cell_type": "markdown",
   "metadata": {},
   "source": [
    "### Load video and generate result"
   ]
  },
  {
   "cell_type": "code",
   "execution_count": 5,
   "metadata": {},
   "outputs": [
    {
     "name": "stdout",
     "output_type": "stream",
     "text": [
      "[MoviePy] >>>> Building video output_videos/harder_challenge_video2.mp4\n",
      "[MoviePy] Writing video output_videos/harder_challenge_video2.mp4\n"
     ]
    },
    {
     "name": "stderr",
     "output_type": "stream",
     "text": [
      "100%|█████████▉| 1199/1200 [04:24<00:00,  4.27it/s]\n"
     ]
    },
    {
     "name": "stdout",
     "output_type": "stream",
     "text": [
      "[MoviePy] Done.\n",
      "[MoviePy] >>>> Video ready: output_videos/harder_challenge_video2.mp4 \n",
      "\n",
      "CPU times: user 6min 37s, sys: 17.4 s, total: 6min 54s\n",
      "Wall time: 4min 26s\n"
     ]
    }
   ],
   "source": [
    "from moviepy.editor import VideoFileClip\n",
    "from IPython.display import HTML\n",
    "%matplotlib inline\n",
    "\n",
    "video_file = \"test_videos/harder_challenge_video.mp4\"\n",
    "white_output = 'output_videos/harder_challenge_video2.mp4'\n",
    "clip1 = VideoFileClip(video_file)\n",
    "#clip1 = VideoFileClip(video_file).subclip(0,15)\n",
    "white_clip = clip1.fl_image(process_image) \n",
    "%time white_clip.write_videofile(white_output, audio=False)"
   ]
  },
  {
   "cell_type": "code",
   "execution_count": null,
   "metadata": {
    "collapsed": true
   },
   "outputs": [],
   "source": []
  }
 ],
 "metadata": {
  "kernelspec": {
   "display_name": "Python 3",
   "language": "python",
   "name": "python3"
  },
  "language_info": {
   "codemirror_mode": {
    "name": "ipython",
    "version": 3
   },
   "file_extension": ".py",
   "mimetype": "text/x-python",
   "name": "python",
   "nbconvert_exporter": "python",
   "pygments_lexer": "ipython3",
   "version": "3.6.2"
  },
  "widgets": {
   "state": {},
   "version": "1.1.2"
  }
 },
 "nbformat": 4,
 "nbformat_minor": 2
}
