{
 "cells": [
  {
   "cell_type": "code",
   "execution_count": 1,
   "metadata": {
    "collapsed": false
   },
   "outputs": [],
   "source": [
    "import numpy as np\n",
    "import cv2\n",
    "import matplotlib.pyplot as plt\n",
    "import matplotlib.image as mpimg\n",
    "from sklearn.model_selection import train_test_split\n",
    "from sklearn.preprocessing import StandardScaler\n",
    "from sklearn.svm import LinearSVC\n",
    "from scipy.ndimage.measurements import label\n",
    "import os \n",
    "import pickle \n",
    "import time\n",
    "from utils.utils import *\n",
    "from moviepy.editor import *\n",
    "\n",
    "%matplotlib inline"
   ]
  },
  {
   "cell_type": "markdown",
   "metadata": {},
   "source": [
    "## Load pretrained classifier"
   ]
  },
  {
   "cell_type": "code",
   "execution_count": 2,
   "metadata": {
    "collapsed": true
   },
   "outputs": [],
   "source": [
    "clf, X_scaler, pca = pickle.load( open( \"trained_classifier.p\", \"rb\" ) )"
   ]
  },
  {
   "cell_type": "markdown",
   "metadata": {},
   "source": [
    "## Parameters"
   ]
  },
  {
   "cell_type": "code",
   "execution_count": 3,
   "metadata": {
    "collapsed": true
   },
   "outputs": [],
   "source": [
    "color_space = 'YCrCb' # Can be RGB, HSV, LUV, HLS, YUV, YCrCb\n",
    "orient = 9  # HOG orientations\n",
    "pix_per_cell = 16 # HOG pixels per cell\n",
    "cell_per_block = 2 # HOG cells per block\n",
    "hog_channel = \"ALL\" # Can be 0, 1, 2, or \"ALL\"\n",
    "spatial_size = (16, 16) # Spatial binning dimensions\n",
    "hist_bins = 16    # Number of histogram bins\n",
    "spatial_feat = False # Spatial features on or off\n",
    "hist_feat = True # Histogram features on or off\n",
    "hog_feat = True # HOG features on or off"
   ]
  },
  {
   "cell_type": "markdown",
   "metadata": {},
   "source": [
    "## Define class to keep previous detections"
   ]
  },
  {
   "cell_type": "code",
   "execution_count": 4,
   "metadata": {
    "collapsed": true
   },
   "outputs": [],
   "source": [
    "class Detections():\n",
    "    def __init__(self, k):\n",
    "        self.prev_windows = []   # History of detections\n",
    "        self.k = k             # Number of frames to consider\n",
    "        for i in range(self.k):\n",
    "            self.prev_windows.append(None)\n",
    "        \n",
    "    def add_detections(self, windows):\n",
    "        self.prev_windows.append(windows)\n",
    "        self.prev_windows = self.prev_windows[1:]\n",
    "        \n",
    "    def get_detections(self):\n",
    "        return [win for win in self.prev_windows if win is not None]\n",
    "        \n",
    "    def get_num_stored_frames(self):\n",
    "        return sum(x is not None for x in self.prev_windows)"
   ]
  },
  {
   "cell_type": "code",
   "execution_count": 5,
   "metadata": {
    "collapsed": true
   },
   "outputs": [],
   "source": [
    "def process_frame(img):\n",
    "    rectangles = []\n",
    "    \n",
    "    threshold = 2\n",
    "    color_space = 'YCrCb' # Can be RGB, HSV, LUV, HLS, YUV, YCrCb\n",
    "    orient = 9  # HOG orientations\n",
    "    pix_per_cell = 16 # HOG pixels per cell\n",
    "    cell_per_block = 2 # HOG cells per block\n",
    "    hog_channel = \"ALL\" # Can be 0, 1, 2, or \"ALL\"\n",
    "    \n",
    "    # Get hot windows\n",
    "    scales = [1,1,1.5,1.5,2,2,3,3]\n",
    "    y_starts = [400,416,400,432,400,432,400,464]\n",
    "    y_stops = [464,480,496,528,528,560,596,660]\n",
    "    rects = []\n",
    "    for i, scale in enumerate(scales):\n",
    "        ystart = y_starts[i]\n",
    "        ystop = y_stops[i]\n",
    "        rects.append(find_cars(img, ystart, ystop, scale, clf, X_scaler, pca, orient, pix_per_cell, cell_per_block, \n",
    "                               hist_bins, color_space))\n",
    "\n",
    "    windows = [item for sublist in rects for item in sublist] \n",
    "    \n",
    "    if len(windows) > 0:\n",
    "        history.add_detections(windows)\n",
    "    \n",
    "    heatmap_img = np.zeros_like(img[:,:,0])\n",
    "    for win in history.get_detections():\n",
    "        heatmap_img = add_heat(heatmap_img, win)\n",
    "        \n",
    "    heatmap_img = apply_threshold(heatmap_img, 1 + history.get_num_stored_frames()//2)\n",
    "    labels = label(heatmap_img)\n",
    "    draw_img, rects = draw_labeled_bboxes(np.copy(img), labels, color=(0,255,0), thickness = 8)\n",
    "    return draw_img"
   ]
  },
  {
   "cell_type": "code",
   "execution_count": 6,
   "metadata": {
    "collapsed": false
   },
   "outputs": [
    {
     "name": "stdout",
     "output_type": "stream",
     "text": [
      "[MoviePy] >>>> Building video ./output_videos/test_video_out.mp4\n",
      "[MoviePy] Writing video ./output_videos/test_video_out.mp4\n"
     ]
    },
    {
     "name": "stderr",
     "output_type": "stream",
     "text": [
      " 97%|█████████▋| 38/39 [00:28<00:00,  1.47it/s]\n"
     ]
    },
    {
     "name": "stdout",
     "output_type": "stream",
     "text": [
      "[MoviePy] Done.\n",
      "[MoviePy] >>>> Video ready: ./output_videos/test_video_out.mp4 \n",
      "\n",
      "CPU times: user 2min 20s, sys: 4.64 s, total: 2min 25s\n",
      "Wall time: 29.9 s\n"
     ]
    }
   ],
   "source": [
    "history = Detections(15)\n",
    "\n",
    "test_out_file = './output_videos/test_video_out.mp4'\n",
    "clip_test = VideoFileClip('test_video.mp4')\n",
    "clip_test_out = clip_test.fl_image(process_frame)\n",
    "%time clip_test_out.write_videofile(test_out_file, audio=False)"
   ]
  },
  {
   "cell_type": "code",
   "execution_count": null,
   "metadata": {
    "collapsed": false
   },
   "outputs": [
    {
     "data": {
      "text/html": [
       "\n",
       "<video width=\"960\" height=\"540\" controls>\n",
       "  <source src=\"./output_videos/test_video_out.mp4\">\n",
       "</video>\n"
      ],
      "text/plain": [
       "<IPython.core.display.HTML object>"
      ]
     },
     "execution_count": 7,
     "metadata": {},
     "output_type": "execute_result"
    }
   ],
   "source": [
    "from IPython.display import HTML\n",
    "HTML(\"\"\"\n",
    "<video width=\"960\" height=\"540\" controls>\n",
    "  <source src=\"{0}\">\n",
    "</video>\n",
    "\"\"\".format(test_out_file))"
   ]
  },
  {
   "cell_type": "code",
   "execution_count": 10,
   "metadata": {
    "collapsed": false
   },
   "outputs": [
    {
     "name": "stdout",
     "output_type": "stream",
     "text": [
      "[MoviePy] >>>> Building video ./output_videos/project_video_out.mp4\n",
      "[MoviePy] Writing video ./output_videos/project_video_out.mp4\n"
     ]
    },
    {
     "name": "stderr",
     "output_type": "stream",
     "text": [
      "100%|█████████▉| 1260/1261 [16:42<00:00,  1.36it/s]\n"
     ]
    },
    {
     "name": "stdout",
     "output_type": "stream",
     "text": [
      "[MoviePy] Done.\n",
      "[MoviePy] >>>> Video ready: ./output_videos/project_video_out.mp4 \n",
      "\n",
      "CPU times: user 1h 18min 23s, sys: 2min 43s, total: 1h 21min 7s\n",
      "Wall time: 16min 43s\n"
     ]
    }
   ],
   "source": [
    "history = Detections(10)\n",
    "\n",
    "project_out_file = './output_videos/project_video_out.mp4'\n",
    "clip_project = VideoFileClip('project_video.mp4')\n",
    "clip_project_out = clip_project.fl_image(process_frame)\n",
    "%time clip_project_out.write_videofile(project_out_file, audio=False)"
   ]
  },
  {
   "cell_type": "code",
   "execution_count": null,
   "metadata": {
    "collapsed": true
   },
   "outputs": [],
   "source": [
    "from IPython.display import HTML\n",
    "HTML(\"\"\"\n",
    "<video width=\"960\" height=\"540\" controls>\n",
    "  <source src=\"{0}\">\n",
    "</video>\n",
    "\"\"\".format(project_out_file))"
   ]
  }
 ],
 "metadata": {
  "kernelspec": {
   "display_name": "Python 3",
   "language": "python",
   "name": "python3"
  },
  "language_info": {
   "codemirror_mode": {
    "name": "ipython",
    "version": 3
   },
   "file_extension": ".py",
   "mimetype": "text/x-python",
   "name": "python",
   "nbconvert_exporter": "python",
   "pygments_lexer": "ipython3",
   "version": "3.5.4"
  }
 },
 "nbformat": 4,
 "nbformat_minor": 1
}
